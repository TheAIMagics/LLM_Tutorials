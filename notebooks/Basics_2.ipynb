{
  "cells": [
    {
      "cell_type": "code",
      "execution_count": 1,
      "metadata": {
        "id": "Lz7zRcrV4zmn"
      },
      "outputs": [],
      "source": [
        "!pip install langchain openai -q"
      ]
    },
    {
      "cell_type": "code",
      "execution_count": 6,
      "metadata": {
        "id": "76-Bkm4K47tl"
      },
      "outputs": [],
      "source": [
        "import os\n",
        "OPENAI_API_KEY=os.environ['OPENAI_API_KEY'] "
      ]
    },
    {
      "cell_type": "code",
      "execution_count": 7,
      "metadata": {
        "id": "sRYN3nOl5Pte"
      },
      "outputs": [],
      "source": [
        "from langchain.llms import OpenAI"
      ]
    },
    {
      "cell_type": "code",
      "execution_count": 8,
      "metadata": {
        "id": "v4s90eyc5SRm"
      },
      "outputs": [],
      "source": [
        "llm = OpenAI(temperature=0.9, openai_api_key=OPENAI_API_KEY)"
      ]
    },
    {
      "cell_type": "code",
      "execution_count": 9,
      "metadata": {
        "colab": {
          "base_uri": "https://localhost:8080/"
        },
        "id": "AJ_1wze85TZd",
        "outputId": "f50ffc11-3604-44fa-fe66-d30d8e8d220a"
      },
      "outputs": [
        {
          "name": "stdout",
          "output_type": "stream",
          "text": [
            "\n",
            "\n",
            "1. Rome, Italy\n",
            "2. Venice, Italy\n",
            "3. Bologna, Italy\n",
            "4. Naples, Italy\n",
            "5. Florence, Italy\n"
          ]
        }
      ],
      "source": [
        "text = \"What are 5 vacation destinations for someone who likes to eat pasta?\"\n",
        "print(llm(text))"
      ]
    },
    {
      "cell_type": "markdown",
      "metadata": {
        "id": "750vv-q65_oO"
      },
      "source": [
        "### Prompt Templates: Manage prompts for LLMs"
      ]
    },
    {
      "cell_type": "code",
      "execution_count": 10,
      "metadata": {
        "id": "AHtmbw-I5kgE"
      },
      "outputs": [],
      "source": [
        "from langchain.prompts import PromptTemplate"
      ]
    },
    {
      "cell_type": "code",
      "execution_count": 11,
      "metadata": {
        "id": "4Jy0f_tB6KJq"
      },
      "outputs": [],
      "source": [
        "prompt = PromptTemplate(\n",
        "    input_variables=[\"food\"],\n",
        "    template = \"What are 5 vacation destinations for someone who likes to eat {food}?\"\n",
        ")"
      ]
    },
    {
      "cell_type": "code",
      "execution_count": 12,
      "metadata": {
        "colab": {
          "base_uri": "https://localhost:8080/",
          "height": 36
        },
        "id": "eF8It7LU6Vv8",
        "outputId": "aee1e048-0df5-45a3-a19a-4b02273cf122"
      },
      "outputs": [
        {
          "data": {
            "application/vnd.google.colaboratory.intrinsic+json": {
              "type": "string"
            },
            "text/plain": [
              "'What are 5 vacation destinations for someone who likes to eat desert?'"
            ]
          },
          "execution_count": 12,
          "metadata": {},
          "output_type": "execute_result"
        }
      ],
      "source": [
        "prompt.format(food=\"desert\")"
      ]
    },
    {
      "cell_type": "code",
      "execution_count": 13,
      "metadata": {
        "colab": {
          "base_uri": "https://localhost:8080/",
          "height": 36
        },
        "id": "KvVW_GP66cwb",
        "outputId": "6082bbb0-f5fc-4b25-8b0e-d558bc68349f"
      },
      "outputs": [
        {
          "data": {
            "application/vnd.google.colaboratory.intrinsic+json": {
              "type": "string"
            },
            "text/plain": [
              "'\\n\\n1. Dubai, United Arab Emirates \\n2. Florence, Italy \\n3. Istanbul, Turkey \\n4. Cape Town, South Africa \\n5. Marrakech, Morocco'"
            ]
          },
          "execution_count": 13,
          "metadata": {},
          "output_type": "execute_result"
        }
      ],
      "source": [
        "llm(prompt.format(food=\"desert\"))"
      ]
    },
    {
      "cell_type": "markdown",
      "metadata": {
        "id": "o2Eafniv6wKb"
      },
      "source": [
        "### Chains = Combine LLM & prompts in multi-step workflows"
      ]
    },
    {
      "cell_type": "code",
      "execution_count": 14,
      "metadata": {
        "id": "Vr94U_9K6kx5"
      },
      "outputs": [],
      "source": [
        "from langchain.prompts import PromptTemplate\n",
        "from langchain.llms import openai\n",
        "from langchain.chains import LLMChain"
      ]
    },
    {
      "cell_type": "code",
      "execution_count": 16,
      "metadata": {
        "id": "knk9mi8v7k1S"
      },
      "outputs": [],
      "source": [
        "prompt = PromptTemplate(\n",
        "    input_variables=[\"food\"],\n",
        "    template = \"What are 5 vacation destinations for someone who likes to eat {food}?\"\n",
        ")"
      ]
    },
    {
      "cell_type": "code",
      "execution_count": 17,
      "metadata": {
        "id": "aDF2Zbb477up"
      },
      "outputs": [],
      "source": [
        "chain = LLMChain(llm = llm, prompt= prompt)"
      ]
    },
    {
      "cell_type": "code",
      "execution_count": 18,
      "metadata": {
        "colab": {
          "base_uri": "https://localhost:8080/"
        },
        "id": "pq6c7WEY8D4D",
        "outputId": "6e4bcdb2-2713-401b-bfb7-e73cddbb3d73"
      },
      "outputs": [
        {
          "name": "stdout",
          "output_type": "stream",
          "text": [
            "\n",
            "\n",
            "1. Hawaii – with its tropical climate, plentiful rainfall and abundance of volcanic soil, Hawaii is a fruit-lover's paradise. Fruits such as papaya, mango, pineapple, guava, starfruit, passion fruit, and more are all grown here.\n",
            "\n",
            "2. South Africa – South Africa's lengthy coastline and favorable climate make it a great destination for those who love fresh fruit. Popular varieties include mangoes, apples, oranges, pineapples, and lemons.\n",
            "\n",
            "3. California – California is a top fruit-producing state in the United States, with varieties such as oranges, lemons, apples, peaches, and nectarines available year-round.\n",
            "\n",
            "4. Costa Rica – Costa Rica is known for its abundance of tropical fruits like guava, starfruit, mango, papaya, pineapple, and bananas.\n",
            "\n",
            "5. India – India is home to a wide variety of fruits like lychees, custard apples, jackfruit, mangoes, and bananas. It is also home to a variety of spices and other exotic flavors, making it a great destination for adventurous fruit-eaters.\n"
          ]
        }
      ],
      "source": [
        "print(chain.run(\"fruit\"))"
      ]
    },
    {
      "cell_type": "markdown",
      "metadata": {
        "id": "9kcID15s8ceK"
      },
      "source": [
        "### Memory = Add state to chains and agents"
      ]
    },
    {
      "cell_type": "code",
      "execution_count": 19,
      "metadata": {
        "id": "ZNqq1TCm8ILS"
      },
      "outputs": [],
      "source": [
        "from langchain import OpenAI, ConversationChain"
      ]
    },
    {
      "cell_type": "code",
      "execution_count": 20,
      "metadata": {
        "id": "RRiN3RsM8qhS"
      },
      "outputs": [],
      "source": [
        "conversatn = ConversationChain(llm = llm)"
      ]
    },
    {
      "cell_type": "code",
      "execution_count": 22,
      "metadata": {
        "colab": {
          "base_uri": "https://localhost:8080/",
          "height": 36
        },
        "id": "LuKYPOWk80tJ",
        "outputId": "578487e6-84f8-47db-cc9d-4bf11c7d34ee"
      },
      "outputs": [
        {
          "data": {
            "application/vnd.google.colaboratory.intrinsic+json": {
              "type": "string"
            },
            "text/plain": [
              "\" Hi there! It's nice to meet you. What's your name?\""
            ]
          },
          "execution_count": 22,
          "metadata": {},
          "output_type": "execute_result"
        }
      ],
      "source": [
        "conversatn.predict(input = \"Hi!! Bot\")"
      ]
    },
    {
      "cell_type": "code",
      "execution_count": 23,
      "metadata": {
        "colab": {
          "base_uri": "https://localhost:8080/",
          "height": 36
        },
        "id": "fhQ3N-Kk865Y",
        "outputId": "a1a294e0-fe3e-4546-a641-abe188147be2"
      },
      "outputs": [
        {
          "data": {
            "application/vnd.google.colaboratory.intrinsic+json": {
              "type": "string"
            },
            "text/plain": [
              "' Nice to meet you as well. My name is Bot, what can I do for you today?'"
            ]
          },
          "execution_count": 23,
          "metadata": {},
          "output_type": "execute_result"
        }
      ],
      "source": [
        "conversatn.predict(input = \"I'm doing well! Just having a conversation with an AI\")"
      ]
    },
    {
      "cell_type": "code",
      "execution_count": 25,
      "metadata": {
        "colab": {
          "base_uri": "https://localhost:8080/",
          "height": 36
        },
        "id": "on7TfzMG9Ech",
        "outputId": "fe7b96b3-aa24-4e9b-e7ab-1ca382c9bea7"
      },
      "outputs": [
        {
          "data": {
            "application/vnd.google.colaboratory.intrinsic+json": {
              "type": "string"
            },
            "text/plain": [
              "' You said, \"Hi!! Bot\". Is there anything else I can help you with?'"
            ]
          },
          "execution_count": 25,
          "metadata": {},
          "output_type": "execute_result"
        }
      ],
      "source": [
        "conversatn.predict(input=\"What was the first thing I said to you?\")"
      ]
    },
    {
      "cell_type": "code",
      "execution_count": 26,
      "metadata": {
        "colab": {
          "base_uri": "https://localhost:8080/",
          "height": 36
        },
        "id": "TYRhHjAW9KuB",
        "outputId": "362036c1-8938-41a6-d7fe-725fd314981c"
      },
      "outputs": [
        {
          "data": {
            "application/vnd.google.colaboratory.intrinsic+json": {
              "type": "string"
            },
            "text/plain": [
              "' You could have alternatively said \"Hello Bot\" or \"Greetings Bot\". Is there anything else I can help you with?'"
            ]
          },
          "execution_count": 26,
          "metadata": {},
          "output_type": "execute_result"
        }
      ],
      "source": [
        "conversatn.predict(input=\"what is an alternative phrase for the first thing I said to you?\")"
      ]
    },
    {
      "cell_type": "code",
      "execution_count": null,
      "metadata": {
        "id": "gKASlW8M9SDw"
      },
      "outputs": [],
      "source": []
    }
  ],
  "metadata": {
    "colab": {
      "provenance": []
    },
    "kernelspec": {
      "display_name": "Python 3",
      "name": "python3"
    },
    "language_info": {
      "name": "python"
    }
  },
  "nbformat": 4,
  "nbformat_minor": 0
}
